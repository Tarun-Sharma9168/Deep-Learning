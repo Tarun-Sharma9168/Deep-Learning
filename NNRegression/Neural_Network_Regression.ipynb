{
 "cells": [
  {
   "cell_type": "markdown",
   "metadata": {},
   "source": [
    "#  Keras for Deep Neural Networks\n",
    "## Deep Neural Networks for Supervised Learning - Regression"
   ]
  },
  {
   "cell_type": "code",
   "execution_count": 6,
   "metadata": {},
   "outputs": [],
   "source": [
    "#avoid Warnings\n",
    "#very important\n",
    "import warnings\n",
    "warnings.filterwarnings(\"ignore\")"
   ]
  },
  {
   "cell_type": "code",
   "execution_count": 9,
   "metadata": {},
   "outputs": [],
   "source": [
    "#deep neural networks for supervised learning and it is here used for regression\n",
    "#importing some data visualization libraries\n",
    "import pandas as pd\n",
    "import seaborn as sns\n",
    "import numpy as np\n",
    "%matplotlib inline\n",
    "\n",
    "#Sklearn import library for splitting the data and Encoding of the Categorical variable\n",
    "\n",
    "\n",
    "#if you want to split the data then use model_selection\n",
    "from sklearn.model_selection import train_test_split\n",
    "\n",
    "\n",
    "#Encoding the categorical variable\n",
    "from sklearn.preprocessing import LabelEncoder, OneHotEncoder\n",
    "\n",
    "#Reading the data\n",
    "df  = pd.read_csv(\"train.csv\")"
   ]
  },
  {
   "cell_type": "code",
   "execution_count": 10,
   "metadata": {},
   "outputs": [
    {
     "name": "stdout",
     "output_type": "stream",
     "text": [
      "Shape of the Dataset: (1017209, 9)\n"
     ]
    },
    {
     "data": {
      "text/html": [
       "<div>\n",
       "<style scoped>\n",
       "    .dataframe tbody tr th:only-of-type {\n",
       "        vertical-align: middle;\n",
       "    }\n",
       "\n",
       "    .dataframe tbody tr th {\n",
       "        vertical-align: top;\n",
       "    }\n",
       "\n",
       "    .dataframe thead th {\n",
       "        text-align: right;\n",
       "    }\n",
       "</style>\n",
       "<table border=\"1\" class=\"dataframe\">\n",
       "  <thead>\n",
       "    <tr style=\"text-align: right;\">\n",
       "      <th></th>\n",
       "      <th>Store</th>\n",
       "      <th>DayOfWeek</th>\n",
       "      <th>Date</th>\n",
       "      <th>Sales</th>\n",
       "      <th>Customers</th>\n",
       "      <th>Open</th>\n",
       "      <th>Promo</th>\n",
       "      <th>StateHoliday</th>\n",
       "      <th>SchoolHoliday</th>\n",
       "    </tr>\n",
       "  </thead>\n",
       "  <tbody>\n",
       "    <tr>\n",
       "      <td>0</td>\n",
       "      <td>1</td>\n",
       "      <td>5</td>\n",
       "      <td>2015-07-31</td>\n",
       "      <td>5263</td>\n",
       "      <td>555</td>\n",
       "      <td>1</td>\n",
       "      <td>1</td>\n",
       "      <td>0</td>\n",
       "      <td>1</td>\n",
       "    </tr>\n",
       "    <tr>\n",
       "      <td>1</td>\n",
       "      <td>2</td>\n",
       "      <td>5</td>\n",
       "      <td>2015-07-31</td>\n",
       "      <td>6064</td>\n",
       "      <td>625</td>\n",
       "      <td>1</td>\n",
       "      <td>1</td>\n",
       "      <td>0</td>\n",
       "      <td>1</td>\n",
       "    </tr>\n",
       "    <tr>\n",
       "      <td>2</td>\n",
       "      <td>3</td>\n",
       "      <td>5</td>\n",
       "      <td>2015-07-31</td>\n",
       "      <td>8314</td>\n",
       "      <td>821</td>\n",
       "      <td>1</td>\n",
       "      <td>1</td>\n",
       "      <td>0</td>\n",
       "      <td>1</td>\n",
       "    </tr>\n",
       "    <tr>\n",
       "      <td>3</td>\n",
       "      <td>4</td>\n",
       "      <td>5</td>\n",
       "      <td>2015-07-31</td>\n",
       "      <td>13995</td>\n",
       "      <td>1498</td>\n",
       "      <td>1</td>\n",
       "      <td>1</td>\n",
       "      <td>0</td>\n",
       "      <td>1</td>\n",
       "    </tr>\n",
       "    <tr>\n",
       "      <td>4</td>\n",
       "      <td>5</td>\n",
       "      <td>5</td>\n",
       "      <td>2015-07-31</td>\n",
       "      <td>4822</td>\n",
       "      <td>559</td>\n",
       "      <td>1</td>\n",
       "      <td>1</td>\n",
       "      <td>0</td>\n",
       "      <td>1</td>\n",
       "    </tr>\n",
       "  </tbody>\n",
       "</table>\n",
       "</div>"
      ],
      "text/plain": [
       "   Store  DayOfWeek        Date  Sales  Customers  Open  Promo StateHoliday  \\\n",
       "0      1          5  2015-07-31   5263        555     1      1            0   \n",
       "1      2          5  2015-07-31   6064        625     1      1            0   \n",
       "2      3          5  2015-07-31   8314        821     1      1            0   \n",
       "3      4          5  2015-07-31  13995       1498     1      1            0   \n",
       "4      5          5  2015-07-31   4822        559     1      1            0   \n",
       "\n",
       "   SchoolHoliday  \n",
       "0              1  \n",
       "1              1  \n",
       "2              1  \n",
       "3              1  \n",
       "4              1  "
      ]
     },
     "execution_count": 10,
     "metadata": {},
     "output_type": "execute_result"
    }
   ],
   "source": [
    "#printing the shape of the data\n",
    "print(\"Shape of the Dataset:\",df.shape)\n",
    "#the head method displays the first 5 rows of the data\n",
    "df.head(5)  "
   ]
  },
  {
   "cell_type": "code",
   "execution_count": 12,
   "metadata": {},
   "outputs": [],
   "source": [
    "#See the data carefully Date column can be interested for you"
   ]
  },
  {
   "cell_type": "code",
   "execution_count": 17,
   "metadata": {},
   "outputs": [
    {
     "name": "stdout",
     "output_type": "stream",
     "text": [
      "<class 'pandas.core.frame.DataFrame'>\n",
      "RangeIndex: 1017209 entries, 0 to 1017208\n",
      "Data columns (total 9 columns):\n",
      "Store            1017209 non-null int64\n",
      "DayOfWeek        1017209 non-null int64\n",
      "Date             1017209 non-null object\n",
      "Sales            1017209 non-null int64\n",
      "Customers        1017209 non-null int64\n",
      "Open             1017209 non-null int64\n",
      "Promo            1017209 non-null int64\n",
      "StateHoliday     1017209 non-null object\n",
      "SchoolHoliday    1017209 non-null int64\n",
      "dtypes: int64(7), object(2)\n",
      "memory usage: 69.8+ MB\n"
     ]
    }
   ],
   "source": [
    "#It is very important for us to see the data types of all these columns\n",
    "df.info()\n",
    "\n",
    "#Very important to see the memory taken very large\n",
    "#Very important to see that date is object and the State Holiday is also the object"
   ]
  },
  {
   "cell_type": "code",
   "execution_count": null,
   "metadata": {},
   "outputs": [],
   "source": [
    "#checking the unique values\n",
    "df[\"Store\"].unique()"
   ]
  },
  {
   "cell_type": "code",
   "execution_count": 20,
   "metadata": {},
   "outputs": [],
   "source": [
    "#It is not easy to merge two datasets and it merge according to some key column that is Store her"
   ]
  },
  {
   "cell_type": "code",
   "execution_count": 16,
   "metadata": {
    "scrolled": true
   },
   "outputs": [
    {
     "name": "stdout",
     "output_type": "stream",
     "text": [
      "Shape of the Dataset: (1115, 10)\n"
     ]
    },
    {
     "data": {
      "text/html": [
       "<div>\n",
       "<style scoped>\n",
       "    .dataframe tbody tr th:only-of-type {\n",
       "        vertical-align: middle;\n",
       "    }\n",
       "\n",
       "    .dataframe tbody tr th {\n",
       "        vertical-align: top;\n",
       "    }\n",
       "\n",
       "    .dataframe thead th {\n",
       "        text-align: right;\n",
       "    }\n",
       "</style>\n",
       "<table border=\"1\" class=\"dataframe\">\n",
       "  <thead>\n",
       "    <tr style=\"text-align: right;\">\n",
       "      <th></th>\n",
       "      <th>Store</th>\n",
       "      <th>StoreType</th>\n",
       "      <th>Assortment</th>\n",
       "      <th>CompetitionDistance</th>\n",
       "      <th>CompetitionOpenSinceMonth</th>\n",
       "      <th>CompetitionOpenSinceYear</th>\n",
       "      <th>Promo2</th>\n",
       "      <th>Promo2SinceWeek</th>\n",
       "      <th>Promo2SinceYear</th>\n",
       "      <th>PromoInterval</th>\n",
       "    </tr>\n",
       "  </thead>\n",
       "  <tbody>\n",
       "    <tr>\n",
       "      <td>0</td>\n",
       "      <td>1</td>\n",
       "      <td>c</td>\n",
       "      <td>a</td>\n",
       "      <td>1270.0</td>\n",
       "      <td>9.0</td>\n",
       "      <td>2008.0</td>\n",
       "      <td>0</td>\n",
       "      <td>NaN</td>\n",
       "      <td>NaN</td>\n",
       "      <td>NaN</td>\n",
       "    </tr>\n",
       "    <tr>\n",
       "      <td>1</td>\n",
       "      <td>2</td>\n",
       "      <td>a</td>\n",
       "      <td>a</td>\n",
       "      <td>570.0</td>\n",
       "      <td>11.0</td>\n",
       "      <td>2007.0</td>\n",
       "      <td>1</td>\n",
       "      <td>13.0</td>\n",
       "      <td>2010.0</td>\n",
       "      <td>Jan,Apr,Jul,Oct</td>\n",
       "    </tr>\n",
       "    <tr>\n",
       "      <td>2</td>\n",
       "      <td>3</td>\n",
       "      <td>a</td>\n",
       "      <td>a</td>\n",
       "      <td>14130.0</td>\n",
       "      <td>12.0</td>\n",
       "      <td>2006.0</td>\n",
       "      <td>1</td>\n",
       "      <td>14.0</td>\n",
       "      <td>2011.0</td>\n",
       "      <td>Jan,Apr,Jul,Oct</td>\n",
       "    </tr>\n",
       "    <tr>\n",
       "      <td>3</td>\n",
       "      <td>4</td>\n",
       "      <td>c</td>\n",
       "      <td>c</td>\n",
       "      <td>620.0</td>\n",
       "      <td>9.0</td>\n",
       "      <td>2009.0</td>\n",
       "      <td>0</td>\n",
       "      <td>NaN</td>\n",
       "      <td>NaN</td>\n",
       "      <td>NaN</td>\n",
       "    </tr>\n",
       "    <tr>\n",
       "      <td>4</td>\n",
       "      <td>5</td>\n",
       "      <td>a</td>\n",
       "      <td>a</td>\n",
       "      <td>29910.0</td>\n",
       "      <td>4.0</td>\n",
       "      <td>2015.0</td>\n",
       "      <td>0</td>\n",
       "      <td>NaN</td>\n",
       "      <td>NaN</td>\n",
       "      <td>NaN</td>\n",
       "    </tr>\n",
       "  </tbody>\n",
       "</table>\n",
       "</div>"
      ],
      "text/plain": [
       "   Store StoreType Assortment  CompetitionDistance  CompetitionOpenSinceMonth  \\\n",
       "0      1         c          a               1270.0                        9.0   \n",
       "1      2         a          a                570.0                       11.0   \n",
       "2      3         a          a              14130.0                       12.0   \n",
       "3      4         c          c                620.0                        9.0   \n",
       "4      5         a          a              29910.0                        4.0   \n",
       "\n",
       "   CompetitionOpenSinceYear  Promo2  Promo2SinceWeek  Promo2SinceYear  \\\n",
       "0                    2008.0       0              NaN              NaN   \n",
       "1                    2007.0       1             13.0           2010.0   \n",
       "2                    2006.0       1             14.0           2011.0   \n",
       "3                    2009.0       0              NaN              NaN   \n",
       "4                    2015.0       0              NaN              NaN   \n",
       "\n",
       "     PromoInterval  \n",
       "0              NaN  \n",
       "1  Jan,Apr,Jul,Oct  \n",
       "2  Jan,Apr,Jul,Oct  \n",
       "3              NaN  \n",
       "4              NaN  "
      ]
     },
     "execution_count": 16,
     "metadata": {},
     "output_type": "execute_result"
    }
   ],
   "source": [
    "#importing the another dataset named as store\n",
    "store  = pd.read_csv(\"store.csv\")\n",
    "print(\"Shape of the Dataset:\",store.shape)\n",
    "\n",
    "#Display the first 5 rows of data using the head method of pandas dataframe\n",
    "store.head(5)"
   ]
  },
  {
   "cell_type": "code",
   "execution_count": 19,
   "metadata": {},
   "outputs": [
    {
     "data": {
      "text/plain": [
       "array([   1,    2,    3, ..., 1113, 1114, 1115])"
      ]
     },
     "execution_count": 19,
     "metadata": {},
     "output_type": "execute_result"
    }
   ],
   "source": [
    "store[\"Store\"].unique()"
   ]
  },
  {
   "cell_type": "markdown",
   "metadata": {},
   "source": [
    "# Metadata\n",
    "*\t**Store** - a unique Id for each store\n",
    "*\t**Sales** - the turnover for a given day (Our target y variable)\n",
    "*\t**Customers** - the number of customers on a given day\n",
    "*\t**Open** - an indicator for whether the store was open: 0 = closed, 1 = open\n",
    "*\t**StateHoliday** - indicates a state holiday. Normally all stores, with few exceptions, are closed on state holidays. Note that all schools are closed on public holidays and weekends. a = public holiday, b = Easter holiday, c = Christmas, 0 = None\n",
    "*\t**SchoolHoliday** - indicates if the (Store, Date) was affected by the closure of public schools\n",
    "*\t**StoreType** - differentiates between 4 different store models: a, b, c, d\n",
    "*\t**Assortment** - describes an assortment level: a = basic, b = extra, c = extended\n",
    "*\t**CompetitionDistance** - distance in meters to the nearest competitor store\n",
    "*\t**CompetitionOpenSince[Month/Year]** - gives the approximate year and month of the time the nearest competitor was opened\n",
    "*\t**Promo **- indicates whether a store is running a promo on that day\n",
    "*\t**Promo2** - Promo2 is a continuing and consecutive promotion for some stores: 0 = store is not participating, 1 = store is participating\n",
    "*\t**Promo2Since[Year/Week]** - describes the year and calendar week when the store started participating in Promo2\n",
    "*\t**PromoInterval** - describes the consecutive intervals Promo2 is started, naming the months the promotion is started anew. E.g. \"Feb,May,Aug,Nov\" means each round starts in February, May, August, November of any given year for that store\n"
   ]
  },
  {
   "cell_type": "markdown",
   "metadata": {},
   "source": [
    "### Data Exploration"
   ]
  },
  {
   "cell_type": "code",
   "execution_count": 22,
   "metadata": {},
   "outputs": [
    {
     "name": "stdout",
     "output_type": "stream",
     "text": [
      "(1017209, 18)\n"
     ]
    }
   ],
   "source": [
    "#Very very important step \n",
    "#See carefully the merging of the data\n",
    "df_new = df.merge(store,on=[\"Store\"], how=\"inner\")\n",
    "print(df_new.shape)"
   ]
  },
  {
   "cell_type": "code",
   "execution_count": 23,
   "metadata": {},
   "outputs": [
    {
     "name": "stdout",
     "output_type": "stream",
     "text": [
      "Distinct number of Stores : 1115\n",
      "Distinct number of Days : 942\n",
      "Average daily sales of all stores :  5773.82\n"
     ]
    }
   ],
   "source": [
    "print(\"Distinct number of Stores :\", len(df_new[\"Store\"].unique()))\n",
    "print(\"Distinct number of Days :\", len(df_new[\"Date\"].unique()))\n",
    "print(\"Average daily sales of all stores : \",round(df_new[\"Sales\"].mean(),2))"
   ]
  },
  {
   "cell_type": "code",
   "execution_count": 25,
   "metadata": {},
   "outputs": [
    {
     "data": {
      "text/plain": [
       "Store                          int64\n",
       "DayOfWeek                      int64\n",
       "Date                          object\n",
       "Sales                          int64\n",
       "Customers                      int64\n",
       "Open                           int64\n",
       "Promo                          int64\n",
       "StateHoliday                  object\n",
       "SchoolHoliday                  int64\n",
       "StoreType                     object\n",
       "Assortment                    object\n",
       "CompetitionDistance          float64\n",
       "CompetitionOpenSinceMonth    float64\n",
       "CompetitionOpenSinceYear     float64\n",
       "Promo2                         int64\n",
       "Promo2SinceWeek              float64\n",
       "Promo2SinceYear              float64\n",
       "PromoInterval                 object\n",
       "dtype: object"
      ]
     },
     "execution_count": 25,
     "metadata": {},
     "output_type": "execute_result"
    }
   ],
   "source": [
    "#Simply seeing the datatype \n",
    "df_new.dtypes"
   ]
  },
  {
   "cell_type": "code",
   "execution_count": 26,
   "metadata": {
    "scrolled": true
   },
   "outputs": [
    {
     "data": {
      "text/plain": [
       "5    145845\n",
       "4    145845\n",
       "3    145665\n",
       "2    145664\n",
       "7    144730\n",
       "6    144730\n",
       "1    144730\n",
       "Name: DayOfWeek, dtype: int64"
      ]
     },
     "execution_count": 26,
     "metadata": {},
     "output_type": "execute_result"
    }
   ],
   "source": [
    "#Value count of the day of the week\n",
    "df_new[\"DayOfWeek\"].value_counts()"
   ]
  },
  {
   "cell_type": "code",
   "execution_count": 27,
   "metadata": {},
   "outputs": [
    {
     "data": {
      "text/plain": [
       "<matplotlib.axes._subplots.AxesSubplot at 0x7fdb82e3c110>"
      ]
     },
     "execution_count": 27,
     "metadata": {},
     "output_type": "execute_result"
    },
    {
     "data": {
      "image/png": "[encoded data removed]",
      "text/plain": [
       "<Figure size 432x288 with 1 Axes>"
      ]
     },
     "metadata": {
      "needs_background": "light"
     },
     "output_type": "display_data"
    }
   ],
   "source": [
    "sns.countplot(df_new[\"DayOfWeek\"])"
   ]
  },
  {
   "cell_type": "code",
   "execution_count": 30,
   "metadata": {},
   "outputs": [
    {
     "name": "stdout",
     "output_type": "stream",
     "text": [
      "        Date  Year  Month  Day  Week  Quarter  Season\n",
      "0 2015-07-31  2015      7   31    31        3  Summer\n",
      "1 2015-07-30  2015      7   30    31        3  Summer\n",
      "2 2015-07-29  2015      7   29    31        3  Summer\n",
      "3 2015-07-28  2015      7   28    31        3  Summer\n",
      "4 2015-07-27  2015      7   27    31        3  Summer\n"
     ]
    }
   ],
   "source": [
    "#We can extract all date properties from a datetime datatype \n",
    "#As date object is very popular and you can do whatever you want\n",
    "#And extract so much Properties from the date object\n",
    "\n",
    "df_new[\"Date\"] = pd.to_datetime(df_new[\"Date\"])\n",
    "#building the new_month column\n",
    "df_new[\"Month\"] = df_new[\"Date\"].dt.month\n",
    "\n",
    "#Building the Quarter column in intuition that may be date,month,quarter also affects the sale\n",
    "df_new[\"Quarter\"] = df_new[\"Date\"].dt.quarter\n",
    "\n",
    "\n",
    "#Building new Year column\n",
    "df_new[\"Year\"] = df_new[\"Date\"].dt.year\n",
    "\n",
    "#Building the day column\n",
    "df_new[\"Day\"] = df_new[\"Date\"].dt.day\n",
    "\n",
    "\n",
    "#Building the New Column Week \n",
    "df_new[\"Week\"] = df_new[\"Date\"].dt.week\n",
    "\n",
    "#it is interesting that is Season\n",
    "#This is what coding is just believe in it\n",
    "df_new[\"Season\"] = np.where(df_new[\"Month\"].isin([3,4,5]),\"Spring\",\n",
    "                        np.where(df_new[\"Month\"].isin([6,7,8]),\"Summer\",\n",
    "                            np.where(df_new[\"Month\"].isin([9,10,11]),\"Fall\",\n",
    "                                np.where(df_new[\"Month\"].isin([12,1,2]),\"Winter\",\"None\"))))\n",
    "\n",
    "\n",
    "#Using the head command to view (only) the data and the newly engineered features\n",
    "#It takes list as a parameter\n",
    "print(df_new[[\"Date\",\"Year\",\"Month\",\"Day\",\"Week\",\"Quarter\",\"Season\"]].head())\n",
    "\n",
    "\n",
    "#Amazing stuff"
   ]
  },
  {
   "cell_type": "code",
   "execution_count": 34,
   "metadata": {},
   "outputs": [
    {
     "data": {
      "image/png": "[encoded data removed]",
      "text/plain": [
       "<Figure size 1080x576 with 1 Axes>"
      ]
     },
     "metadata": {
      "needs_background": "light"
     },
     "output_type": "display_data"
    }
   ],
   "source": [
    "#some visualization\n",
    "#Import matplotlib, python most popular data visualizing library\n",
    "import matplotlib.pyplot as plt\n",
    "%matplotlib inline\n",
    "\n",
    "#Create a histogram to study the Daily Sales for the stores\n",
    "\n",
    "\n",
    "#We just broke the code to understanf\n",
    "\n",
    "#setting the plot size and check with changing the dimension length*breadth\n",
    "plt.figure(figsize=(15,8)) \n",
    "\n",
    "#building the histogram\n",
    "plt.hist(df_new[\"Sales\"])\n",
    "\n",
    "#Setting the title\n",
    "plt.title(\"Histogram for Store Sales\")\n",
    "\n",
    "#setting the xaxis\n",
    "plt.ylabel(\"count\")\n",
    "\n",
    "plt.xlabel(\"Frequency\")\n",
    "plt.show()\n"
   ]
  },
  {
   "cell_type": "code",
   "execution_count": 35,
   "metadata": {},
   "outputs": [
    {
     "data": {
      "text/plain": [
       "array([[<matplotlib.axes._subplots.AxesSubplot object at 0x7fdb7a62fd10>,\n",
       "        <matplotlib.axes._subplots.AxesSubplot object at 0x7fdb7a4d2b50>,\n",
       "        <matplotlib.axes._subplots.AxesSubplot object at 0x7fdb7a4f5e90>,\n",
       "        <matplotlib.axes._subplots.AxesSubplot object at 0x7fdb7a493b50>],\n",
       "       [<matplotlib.axes._subplots.AxesSubplot object at 0x7fdb7a4b6ed0>,\n",
       "        <matplotlib.axes._subplots.AxesSubplot object at 0x7fdb7a456b90>,\n",
       "        <matplotlib.axes._subplots.AxesSubplot object at 0x7fdb7a4793d0>,\n",
       "        <matplotlib.axes._subplots.AxesSubplot object at 0x7fdb7a419bd0>],\n",
       "       [<matplotlib.axes._subplots.AxesSubplot object at 0x7fdb7a41e750>,\n",
       "        <matplotlib.axes._subplots.AxesSubplot object at 0x7fdb7a443110>,\n",
       "        <matplotlib.axes._subplots.AxesSubplot object at 0x7fdb7a400f90>,\n",
       "        <matplotlib.axes._subplots.AxesSubplot object at 0x7fdb7a39cc50>],\n",
       "       [<matplotlib.axes._subplots.AxesSubplot object at 0x7fdb7a3c3f90>,\n",
       "        <matplotlib.axes._subplots.AxesSubplot object at 0x7fdb7a361c50>,\n",
       "        <matplotlib.axes._subplots.AxesSubplot object at 0x7fdb7a385fd0>,\n",
       "        <matplotlib.axes._subplots.AxesSubplot object at 0x7fdb7a322c90>],\n",
       "       [<matplotlib.axes._subplots.AxesSubplot object at 0x7fdb7a3474d0>,\n",
       "        <matplotlib.axes._subplots.AxesSubplot object at 0x7fdb7a2e3cd0>,\n",
       "        <matplotlib.axes._subplots.AxesSubplot object at 0x7fdb7a307510>,\n",
       "        <matplotlib.axes._subplots.AxesSubplot object at 0x7fdb7a2a6d10>]],\n",
       "      dtype=object)"
      ]
     },
     "execution_count": 35,
     "metadata": {},
     "output_type": "execute_result"
    },
    {
     "data": {
      "image/png": "[encoded data removed]",
      "text/plain": [
       "<Figure size 1440x720 with 20 Axes>"
      ]
     },
     "metadata": {
      "needs_background": "light"
     },
     "output_type": "display_data"
    }
   ],
   "source": [
    "#Use the  histogram function provided by the Pandas object\n",
    "#The function returns a cross-tab histogram plot for all numeric columns in the data\n",
    "df_new.hist(figsize=(20,10))"
   ]
  },
  {
   "cell_type": "code",
   "execution_count": 36,
   "metadata": {
    "scrolled": true
   },
   "outputs": [
    {
     "data": {
      "text/plain": [
       "Store                         0.000000\n",
       "DayOfWeek                     0.000000\n",
       "Date                          0.000000\n",
       "Sales                         0.000000\n",
       "Customers                     0.000000\n",
       "Open                          0.000000\n",
       "Promo                         0.000000\n",
       "StateHoliday                  0.000000\n",
       "SchoolHoliday                 0.000000\n",
       "StoreType                     0.000000\n",
       "Assortment                    0.000000\n",
       "CompetitionDistance           0.259730\n",
       "CompetitionOpenSinceMonth    31.787764\n",
       "CompetitionOpenSinceYear     31.787764\n",
       "Promo2                        0.000000\n",
       "Promo2SinceWeek              49.943620\n",
       "Promo2SinceYear              49.943620\n",
       "PromoInterval                49.943620\n",
       "Month                         0.000000\n",
       "Quarter                       0.000000\n",
       "Year                          0.000000\n",
       "Day                           0.000000\n",
       "Week                          0.000000\n",
       "Season                        0.000000\n",
       "dtype: float64"
      ]
     },
     "execution_count": 36,
     "metadata": {},
     "output_type": "execute_result"
    }
   ],
   "source": [
    "#checking the null percentage value in each column\n",
    "df_new.isnull().sum()/df_new.shape[0] * 100"
   ]
  },
  {
   "cell_type": "code",
   "execution_count": 43,
   "metadata": {},
   "outputs": [
    {
     "data": {
      "text/plain": [
       "250.0"
      ]
     },
     "execution_count": 43,
     "metadata": {},
     "output_type": "execute_result"
    }
   ],
   "source": [
    "pp=df_new[\"CompetitionDistance\"].mode()[0]\n",
    "pp"
   ]
  },
  {
   "cell_type": "code",
   "execution_count": 44,
   "metadata": {},
   "outputs": [
    {
     "data": {
      "text/plain": [
       "0.0"
      ]
     },
     "execution_count": 44,
     "metadata": {},
     "output_type": "execute_result"
    }
   ],
   "source": [
    "#Replace nulls with the mode\n",
    "#another important aspect to replace the null values\n",
    "df_new[\"CompetitionDistance\"]= df_new[\"CompetitionDistance\"].fillna(df_new[\"CompetitionDistance\"].mode()[0])\n",
    "\n",
    "#Double check if we still see nulls for the column\n",
    "df_new[\"CompetitionDistance\"].isnull().sum()/df_new.shape[0] * 100\n"
   ]
  },
  {
   "cell_type": "code",
   "execution_count": 46,
   "metadata": {},
   "outputs": [
    {
     "data": {
      "image/png": "[encoded data removed]",
      "text/plain": [
       "<Figure size 432x288 with 1 Axes>"
      ]
     },
     "metadata": {},
     "output_type": "display_data"
    }
   ],
   "source": [
    "import seaborn as sns  #Seaborn is another powerful visulization library for Python\n",
    "#setting the style of the plot\n",
    "sns.set(style=\"whitegrid\")\n",
    "\n",
    "#Create the bar plot for Average Sales acrss different Seasons\n",
    "ax = sns.barplot(x=\"Season\", y=\"Sales\", data=df_new)"
   ]
  },
  {
   "cell_type": "code",
   "execution_count": 47,
   "metadata": {},
   "outputs": [
    {
     "data": {
      "image/png": "[encoded data removed]",
      "text/plain": [
       "<Figure size 432x288 with 1 Axes>"
      ]
     },
     "metadata": {},
     "output_type": "display_data"
    }
   ],
   "source": [
    "#Create the bar plot for Average Sales acrss different Assortments\n",
    "ax = sns.barplot(x=\"Assortment\", y=\"Sales\", data=df_new) "
   ]
  },
  {
   "cell_type": "code",
   "execution_count": 18,
   "metadata": {},
   "outputs": [
    {
     "data": {
      "image/png": "[encoded data removed]",
      "text/plain": [
       "<Figure size 432x288 with 1 Axes>"
      ]
     },
     "metadata": {},
     "output_type": "display_data"
    }
   ],
   "source": [
    "#Create the bar plot for Average Sales acrss different Store Types\n",
    "ax = sns.barplot(x=\"StoreType\", y=\"Sales\", data=df_new) "
   ]
  },
  {
   "cell_type": "code",
   "execution_count": 19,
   "metadata": {},
   "outputs": [
    {
     "data": {
      "image/png": "[encoded data removed]",
      "text/plain": [
       "<Figure size 432x288 with 1 Axes>"
      ]
     },
     "metadata": {},
     "output_type": "display_data"
    }
   ],
   "source": [
    "ax = sns.barplot(x=\"Season\", y=\"Sales\", data=df_new,estimator=np.size) "
   ]
  },
  {
   "cell_type": "code",
   "execution_count": 20,
   "metadata": {},
   "outputs": [
    {
     "data": {
      "image/png": "[encoded data removed]",
      "text/plain": [
       "<Figure size 432x288 with 1 Axes>"
      ]
     },
     "metadata": {},
     "output_type": "display_data"
    }
   ],
   "source": [
    "ax = sns.barplot(x=\"Assortment\", y=\"Sales\", data=df_new,estimator=np.size) "
   ]
  },
  {
   "cell_type": "code",
   "execution_count": 21,
   "metadata": {
    "scrolled": true
   },
   "outputs": [
    {
     "data": {
      "image/png": "[encoded data removed]",
      "text/plain": [
       "<Figure size 432x288 with 1 Axes>"
      ]
     },
     "metadata": {},
     "output_type": "display_data"
    }
   ],
   "source": [
    "ax = sns.barplot(x=\"StoreType\", y=\"Sales\", data=df_new,estimator=np.size)"
   ]
  },
  {
   "cell_type": "code",
   "execution_count": 48,
   "metadata": {},
   "outputs": [],
   "source": [
    "#So these are very basic visualization using seaborn"
   ]
  },
  {
   "cell_type": "markdown",
   "metadata": {},
   "source": [
    "### Data Engineering"
   ]
  },
  {
   "cell_type": "code",
   "execution_count": 57,
   "metadata": {},
   "outputs": [],
   "source": [
    "#Define a variable for each type of feature\n",
    "target = [\"Sales\"]\n",
    "numeric_columns = [\"Customers\",\"Open\",\"Promo\",\"Promo2\",\"StateHoliday\",\"SchoolHoliday\",\"CompetitionDistance\"]\n",
    "categorical_columns = [\"DayOfWeek\",\"Quarter\",\"Month\",\"Year\", \"StoreType\",\"Assortment\",\"Season\"]\n",
    "\n",
    "#Define a function that will intake the raw dataframe and the column name and return a one hot encoded DF\n",
    "def create_ohe(df, col):\n",
    "    le = LabelEncoder()\n",
    "    a=le.fit_transform(df_new[col]).reshape(-1,1)\n",
    "    ohe = OneHotEncoder(sparse=False)\n",
    "    column_names = [col+ \"_\"+ str(i) for i in le.classes_]\n",
    "    return(pd.DataFrame(ohe.fit_transform(a),columns =column_names))\n",
    "\n",
    "#Since the above function coverts the column, one at a time\n",
    "#We create a loop to create the final dataset with all features\n",
    "temp = df_new[numeric_columns]\n",
    "for column in categorical_columns:\n",
    "    temp_df = create_ohe(df_new,column)\n",
    "    temp = pd.concat([temp,temp_df],axis=1)\n"
   ]
  },
  {
   "cell_type": "code",
   "execution_count": 56,
   "metadata": {},
   "outputs": [
    {
     "data": {
      "text/plain": [
       "array([4, 3, 2, ..., 3, 2, 1])"
      ]
     },
     "execution_count": 56,
     "metadata": {},
     "output_type": "execute_result"
    }
   ],
   "source": [
    "le = LabelEncoder()\n",
    "a=le.fit_transform(df_new[\"DayOfWeek\"])#.reshape(-1,1)\n",
    "a"
   ]
  },
  {
   "cell_type": "code",
   "execution_count": 55,
   "metadata": {},
   "outputs": [
    {
     "data": {
      "text/plain": [
       "array([[4],\n",
       "       [3],\n",
       "       [2],\n",
       "       ...,\n",
       "       [3],\n",
       "       [2],\n",
       "       [1]])"
      ]
     },
     "execution_count": 55,
     "metadata": {},
     "output_type": "execute_result"
    }
   ],
   "source": [
    "#Why reshaping is required...\n",
    "#we have to check\n",
    "le = LabelEncoder()\n",
    "a=le.fit_transform(df_new[\"DayOfWeek\"]).reshape(-1,1)\n",
    "a"
   ]
  },
  {
   "cell_type": "code",
   "execution_count": 58,
   "metadata": {},
   "outputs": [],
   "source": [
    "#This is the difference"
   ]
  },
  {
   "cell_type": "code",
   "execution_count": 60,
   "metadata": {},
   "outputs": [
    {
     "name": "stdout",
     "output_type": "stream",
     "text": [
      "Shape of Data: (1017209, 44)\n",
      "Distinct Datatypes: [dtype('int64') dtype('O') dtype('float64')]\n"
     ]
    }
   ],
   "source": [
    "print(\"Shape of Data:\",temp.shape)\n",
    "print(\"Distinct Datatypes:\",temp.dtypes.unique())"
   ]
  },
  {
   "cell_type": "code",
   "execution_count": 61,
   "metadata": {},
   "outputs": [
    {
     "name": "stdout",
     "output_type": "stream",
     "text": [
      "Index(['StateHoliday'], dtype='object')\n"
     ]
    }
   ],
   "source": [
    "print(temp.columns[temp.dtypes==\"object\"])"
   ]
  },
  {
   "cell_type": "code",
   "execution_count": 64,
   "metadata": {},
   "outputs": [
    {
     "data": {
      "text/plain": [
       "array(['0', 'a', 'b', 'c', 0], dtype=object)"
      ]
     },
     "execution_count": 64,
     "metadata": {},
     "output_type": "execute_result"
    }
   ],
   "source": [
    "#See the Unique values in StateHoliday\n",
    "temp[\"StateHoliday\"].unique()"
   ]
  },
  {
   "cell_type": "code",
   "execution_count": 67,
   "metadata": {},
   "outputs": [
    {
     "data": {
      "text/plain": [
       "array([dtype('int64'), dtype('float64')], dtype=object)"
      ]
     },
     "execution_count": 67,
     "metadata": {},
     "output_type": "execute_result"
    }
   ],
   "source": [
    "#very elegant Code\n",
    "#np.where(cond,this(if true),that(if false))\n",
    "temp[\"StateHoliday\"]= np.where(temp[\"StateHoliday\"]== '0',0,1)\n",
    "#One last check the data tpye\n",
    "temp.dtypes.unique()"
   ]
  },
  {
   "cell_type": "code",
   "execution_count": 68,
   "metadata": {},
   "outputs": [
    {
     "name": "stdout",
     "output_type": "stream",
     "text": [
      "Shape of x_train: (732390, 44)\n",
      "Shape of x_val: (81377, 44)\n",
      "Shape of x_test: (203442, 44)\n",
      "Shape of y_train: (732390, 1)\n",
      "Shape of y_val: (81377, 1)\n",
      "Shape of y_test: (203442, 1)\n"
     ]
    }
   ],
   "source": [
    "#Create train and test dataset with an 80:20 split\n",
    "x_train, x_test, y_train, y_test = train_test_split(temp,df_new[target],test_size=0.2,random_state=2018)\n",
    "\n",
    "\n",
    "#Recommended to have a validation set\n",
    "#Further divide training dataset into train and validation dataset with an 90:10 split\n",
    "x_train, x_val, y_train, y_val = train_test_split(x_train,y_train,test_size=0.1,random_state=2018)\n",
    "\n",
    "#Check the sizes of all newly created datasets\n",
    "print(\"Shape of x_train:\",x_train.shape)\n",
    "print(\"Shape of x_val:\",x_val.shape)\n",
    "print(\"Shape of x_test:\",x_test.shape)\n",
    "print(\"Shape of y_train:\",y_train.shape)\n",
    "print(\"Shape of y_val:\",y_val.shape)\n",
    "print(\"Shape of y_test:\",y_test.shape)"
   ]
  },
  {
   "cell_type": "markdown",
   "metadata": {},
   "source": [
    "### Creating Baseline Accuracy"
   ]
  },
  {
   "cell_type": "code",
   "execution_count": 70,
   "metadata": {},
   "outputs": [
    {
     "name": "stdout",
     "output_type": "stream",
     "text": [
      "Average Sales : Sales    5773.099997\n",
      "dtype: float64\n"
     ]
    }
   ],
   "source": [
    "#calcualte the average score of the train dataset\n",
    "mean_sales = y_train.mean()\n",
    "print(\"Average Sales :\",mean_sales) "
   ]
  },
  {
   "cell_type": "code",
   "execution_count": 72,
   "metadata": {},
   "outputs": [
    {
     "name": "stdout",
     "output_type": "stream",
     "text": [
      "MAE for Test Data: 2883.587604303215\n"
     ]
    }
   ],
   "source": [
    "#Calculate the Mean Absolute Error on the test dataset\n",
    "#similarly as mode\n",
    "#It is the base the error always less than this \n",
    "#otherwise the model is worst\n",
    "print(\"MAE for Test Data:\",abs(y_test - mean_sales).mean()[0])"
   ]
  },
  {
   "cell_type": "markdown",
   "metadata": {},
   "source": [
    "### Designing the Deep Neural Network"
   ]
  },
  {
   "cell_type": "code",
   "execution_count": 73,
   "metadata": {},
   "outputs": [
    {
     "name": "stderr",
     "output_type": "stream",
     "text": [
      "Using TensorFlow backend.\n"
     ]
    },
    {
     "name": "stdout",
     "output_type": "stream",
     "text": [
      "WARNING:tensorflow:From /home/tarun/anaconda3/lib/python3.7/site-packages/keras/backend/tensorflow_backend.py:74: The name tf.get_default_graph is deprecated. Please use tf.compat.v1.get_default_graph instead.\n",
      "\n",
      "WARNING:tensorflow:From /home/tarun/anaconda3/lib/python3.7/site-packages/keras/backend/tensorflow_backend.py:517: The name tf.placeholder is deprecated. Please use tf.compat.v1.placeholder instead.\n",
      "\n",
      "WARNING:tensorflow:From /home/tarun/anaconda3/lib/python3.7/site-packages/keras/backend/tensorflow_backend.py:4138: The name tf.random_uniform is deprecated. Please use tf.random.uniform instead.\n",
      "\n",
      "WARNING:tensorflow:From /home/tarun/anaconda3/lib/python3.7/site-packages/keras/optimizers.py:790: The name tf.train.Optimizer is deprecated. Please use tf.compat.v1.train.Optimizer instead.\n",
      "\n",
      "WARNING:tensorflow:From /home/tarun/anaconda3/lib/python3.7/site-packages/keras/backend/tensorflow_backend.py:986: The name tf.assign_add is deprecated. Please use tf.compat.v1.assign_add instead.\n",
      "\n",
      "WARNING:tensorflow:From /home/tarun/anaconda3/lib/python3.7/site-packages/keras/backend/tensorflow_backend.py:973: The name tf.assign is deprecated. Please use tf.compat.v1.assign instead.\n",
      "\n",
      "WARNING:tensorflow:From /home/tarun/anaconda3/lib/python3.7/site-packages/keras/backend/tensorflow_backend.py:2741: The name tf.Session is deprecated. Please use tf.compat.v1.Session instead.\n",
      "\n",
      "Train on 732390 samples, validate on 81377 samples\n",
      "Epoch 1/10\n",
      "WARNING:tensorflow:From /home/tarun/anaconda3/lib/python3.7/site-packages/keras/backend/tensorflow_backend.py:174: The name tf.get_default_session is deprecated. Please use tf.compat.v1.get_default_session instead.\n",
      "\n",
      "WARNING:tensorflow:From /home/tarun/anaconda3/lib/python3.7/site-packages/keras/backend/tensorflow_backend.py:181: The name tf.ConfigProto is deprecated. Please use tf.compat.v1.ConfigProto instead.\n",
      "\n",
      "WARNING:tensorflow:From /home/tarun/anaconda3/lib/python3.7/site-packages/keras/backend/tensorflow_backend.py:190: The name tf.global_variables is deprecated. Please use tf.compat.v1.global_variables instead.\n",
      "\n",
      "WARNING:tensorflow:From /home/tarun/anaconda3/lib/python3.7/site-packages/keras/backend/tensorflow_backend.py:199: The name tf.is_variable_initialized is deprecated. Please use tf.compat.v1.is_variable_initialized instead.\n",
      "\n",
      "WARNING:tensorflow:From /home/tarun/anaconda3/lib/python3.7/site-packages/keras/backend/tensorflow_backend.py:206: The name tf.variables_initializer is deprecated. Please use tf.compat.v1.variables_initializer instead.\n",
      "\n",
      "732390/732390 [==============================] - 39s 53us/step - loss: 959.4315 - mean_absolute_error: 959.4315 - val_loss: 833.5524 - val_mean_absolute_error: 833.5524\n",
      "Epoch 2/10\n",
      "732390/732390 [==============================] - 35s 48us/step - loss: 783.6886 - mean_absolute_error: 783.6886 - val_loss: 775.0494 - val_mean_absolute_error: 775.0494\n",
      "Epoch 3/10\n",
      "732390/732390 [==============================] - 36s 49us/step - loss: 740.9892 - mean_absolute_error: 740.9892 - val_loss: 722.7815 - val_mean_absolute_error: 722.7815\n",
      "Epoch 4/10\n",
      "732390/732390 [==============================] - 37s 50us/step - loss: 725.0020 - mean_absolute_error: 725.0020 - val_loss: 717.3946 - val_mean_absolute_error: 717.3946\n",
      "Epoch 5/10\n",
      "732390/732390 [==============================] - 38s 52us/step - loss: 712.8326 - mean_absolute_error: 712.8326 - val_loss: 705.1521 - val_mean_absolute_error: 705.1521\n",
      "Epoch 6/10\n",
      "732390/732390 [==============================] - 36s 49us/step - loss: 705.0015 - mean_absolute_error: 705.0015 - val_loss: 693.6794 - val_mean_absolute_error: 693.6794\n",
      "Epoch 7/10\n",
      "732390/732390 [==============================] - 37s 51us/step - loss: 699.7347 - mean_absolute_error: 699.7347 - val_loss: 694.2148 - val_mean_absolute_error: 694.2148\n",
      "Epoch 8/10\n",
      "732390/732390 [==============================] - 39s 53us/step - loss: 694.7871 - mean_absolute_error: 694.7871 - val_loss: 698.0671 - val_mean_absolute_error: 698.0671\n",
      "Epoch 9/10\n",
      "732390/732390 [==============================] - 38s 52us/step - loss: 689.9335 - mean_absolute_error: 689.9335 - val_loss: 692.2185 - val_mean_absolute_error: 692.2185\n",
      "Epoch 10/10\n",
      "732390/732390 [==============================] - 38s 52us/step - loss: 685.9701 - mean_absolute_error: 685.9701 - val_loss: 683.2082 - val_mean_absolute_error: 683.2082\n"
     ]
    },
    {
     "data": {
      "text/plain": [
       "<keras.callbacks.History at 0x7fdb4df58c10>"
      ]
     },
     "execution_count": 73,
     "metadata": {},
     "output_type": "execute_result"
    }
   ],
   "source": [
    "#Create Deep Neural Network Architecuture\n",
    "from keras import Sequential\n",
    "from keras.layers import Dense, Dropout\n",
    "\n",
    "model = Sequential()\n",
    "model.add(Dense(150,input_dim = 44,activation=\"relu\"))\n",
    "\n",
    "#The input_dim =44, since the width of the training data=44 (refer data engg section)\n",
    "model.add(Dense(1,activation = \"linear\"))\n",
    "\n",
    "#Configure the model\n",
    "model.compile(optimizer='adam', loss=\"mean_absolute_error\", \n",
    "metrics=[\"mean_absolute_error\"])\n",
    "\n",
    "#Train the model\n",
    "model.fit(x_train,y_train, validation_data=(x_val,y_val),epochs=10,batch_size=64)\n"
   ]
  },
  {
   "cell_type": "code",
   "execution_count": 74,
   "metadata": {},
   "outputs": [
    {
     "name": "stdout",
     "output_type": "stream",
     "text": [
      "203442/203442 [==============================] - 7s 35us/step\n",
      "Metric  loss : 679.95\n",
      "Metric  mean_absolute_error : 679.95\n"
     ]
    }
   ],
   "source": [
    "#Use the model's evaluate method to predict and evaluate the test datasets\n",
    "result = model.evaluate(x_test,y_test)\n",
    "\n",
    "#Print the results\n",
    "for i in range(len(model.metrics_names)):\n",
    "    print(\"Metric \",model.metrics_names[i],\":\",str(round(result[i],2)))"
   ]
  },
  {
   "cell_type": "code",
   "execution_count": 75,
   "metadata": {},
   "outputs": [
    {
     "name": "stdout",
     "output_type": "stream",
     "text": [
      "Train on 732390 samples, validate on 81377 samples\n",
      "Epoch 1/10\n",
      "732390/732390 [==============================] - 56s 77us/step - loss: 1730326.2298 - mean_absolute_error: 854.6930 - val_loss: 1155579.4289 - val_mean_absolute_error: 731.2485\n",
      "Epoch 2/10\n",
      "732390/732390 [==============================] - 54s 74us/step - loss: 1158702.5870 - mean_absolute_error: 722.0426 - val_loss: 1087204.6053 - val_mean_absolute_error: 698.1841\n",
      "Epoch 3/10\n",
      "732390/732390 [==============================] - 56s 76us/step - loss: 1090597.9415 - mean_absolute_error: 700.1688 - val_loss: 995171.5983 - val_mean_absolute_error: 674.9657\n",
      "Epoch 4/10\n",
      "732390/732390 [==============================] - 55s 75us/step - loss: 1052701.5642 - mean_absolute_error: 688.6167 - val_loss: 1182423.3372 - val_mean_absolute_error: 726.8500\n",
      "Epoch 5/10\n",
      "732390/732390 [==============================] - 57s 78us/step - loss: 1033628.8522 - mean_absolute_error: 683.3768 - val_loss: 1008461.4373 - val_mean_absolute_error: 685.8052\n",
      "Epoch 6/10\n",
      "732390/732390 [==============================] - 59s 80us/step - loss: 1011013.1952 - mean_absolute_error: 676.3987 - val_loss: 941704.8128 - val_mean_absolute_error: 658.6477\n",
      "Epoch 7/10\n",
      "732390/732390 [==============================] - 59s 81us/step - loss: 990825.2296 - mean_absolute_error: 670.6138 - val_loss: 998542.1198 - val_mean_absolute_error: 677.4004\n",
      "Epoch 8/10\n",
      "732390/732390 [==============================] - 58s 79us/step - loss: 964149.5084 - mean_absolute_error: 662.9006 - val_loss: 881255.1858 - val_mean_absolute_error: 642.2111\n",
      "Epoch 9/10\n",
      "732390/732390 [==============================] - 61s 83us/step - loss: 942714.3149 - mean_absolute_error: 656.9165 - val_loss: 915927.1762 - val_mean_absolute_error: 653.9779\n",
      "Epoch 10/10\n",
      "732390/732390 [==============================] - 60s 82us/step - loss: 926713.8645 - mean_absolute_error: 650.5765 - val_loss: 1012221.0046 - val_mean_absolute_error: 677.6576\n",
      "Metric  loss : 679.95\n",
      "Metric  mean_absolute_error : 679.95\n"
     ]
    }
   ],
   "source": [
    "#Check with increasing the layersed\n",
    "#Make it more deep\n",
    "model = Sequential()\n",
    "\n",
    "#First\n",
    "model.add(Dense(150,input_dim = 44,activation=\"relu\"))\n",
    "#second\n",
    "model.add(Dense(150,activation=\"relu\"))\n",
    "#third\n",
    "model.add(Dense(150,activation=\"relu\"))\n",
    "#Output Layer\n",
    "model.add(Dense(1,activation = \"linear\"))\n",
    "\n",
    "#Now you changed the loss metrics becuase mse reduce the chance of overfitting\n",
    "model.compile(optimizer='adam',loss=\"mean_squared_error\",metrics=[\"mean_absolute_error\"])\n",
    "\n",
    "history = model.fit(x_train,y_train, validation_data=(x_val,y_val),epochs=10,batch_size=64)\n",
    "\n",
    "#result = model.evaluate(x_test,y_test)\n",
    "for i in range(len(model.metrics_names)):\n",
    "    print(\"Metric \",model.metrics_names[i],\":\",str(round(result[i],2)))\n"
   ]
  },
  {
   "cell_type": "code",
   "execution_count": 76,
   "metadata": {},
   "outputs": [
    {
     "name": "stdout",
     "output_type": "stream",
     "text": [
      "Train on 732390 samples, validate on 81377 samples\n",
      "Epoch 1/15\n",
      "732390/732390 [==============================] - 88s 120us/step - loss: 1745210.0183 - mean_absolute_error: 863.6423 - val_loss: 1259886.7146 - val_mean_absolute_error: 779.3278\n",
      "Epoch 2/15\n",
      "732390/732390 [==============================] - 85s 116us/step - loss: 1175268.9193 - mean_absolute_error: 727.3253 - val_loss: 1092955.3006 - val_mean_absolute_error: 696.0282\n",
      "Epoch 3/15\n",
      "732390/732390 [==============================] - 81s 111us/step - loss: 1108718.0051 - mean_absolute_error: 704.8262 - val_loss: 1239008.9041 - val_mean_absolute_error: 745.4879\n",
      "Epoch 4/15\n",
      "732390/732390 [==============================] - 83s 113us/step - loss: 1067666.6862 - mean_absolute_error: 691.6656 - val_loss: 1057535.6798 - val_mean_absolute_error: 686.9974\n",
      "Epoch 5/15\n",
      "732390/732390 [==============================] - 87s 119us/step - loss: 1042825.5231 - mean_absolute_error: 684.4119 - val_loss: 953991.5788 - val_mean_absolute_error: 660.2796\n",
      "Epoch 6/15\n",
      "732390/732390 [==============================] - 73s 100us/step - loss: 1013485.6148 - mean_absolute_error: 675.6877 - val_loss: 988162.8877 - val_mean_absolute_error: 681.2283\n",
      "Epoch 7/15\n",
      "732390/732390 [==============================] - 79s 108us/step - loss: 992128.6995 - mean_absolute_error: 670.0179 - val_loss: 1091694.6178 - val_mean_absolute_error: 702.5859\n",
      "Epoch 8/15\n",
      "732390/732390 [==============================] - 89s 121us/step - loss: 971069.2805 - mean_absolute_error: 662.9292 - val_loss: 933173.3219 - val_mean_absolute_error: 656.6723\n",
      "Epoch 9/15\n",
      "732390/732390 [==============================] - 85s 116us/step - loss: 949884.2867 - mean_absolute_error: 656.0267 - val_loss: 924128.8984 - val_mean_absolute_error: 647.3014\n",
      "Epoch 10/15\n",
      "732390/732390 [==============================] - 88s 120us/step - loss: 929121.9877 - mean_absolute_error: 649.3184 - val_loss: 867529.8948 - val_mean_absolute_error: 634.9035\n",
      "Epoch 11/15\n",
      "732390/732390 [==============================] - 73s 100us/step - loss: 912774.1186 - mean_absolute_error: 643.7456 - val_loss: 880335.2439 - val_mean_absolute_error: 630.4193\n",
      "Epoch 12/15\n",
      "732390/732390 [==============================] - 69s 94us/step - loss: 898166.0535 - mean_absolute_error: 638.4854 - val_loss: 941941.1660 - val_mean_absolute_error: 672.2054\n",
      "Epoch 13/15\n",
      "732390/732390 [==============================] - 67s 92us/step - loss: 884896.2714 - mean_absolute_error: 632.7697 - val_loss: 853228.7986 - val_mean_absolute_error: 622.7838\n",
      "Epoch 14/15\n",
      "732390/732390 [==============================] - 65s 89us/step - loss: 868848.2886 - mean_absolute_error: 627.1307 - val_loss: 840647.6615 - val_mean_absolute_error: 622.7563\n",
      "Epoch 15/15\n",
      "732390/732390 [==============================] - 72s 98us/step - loss: 860601.9343 - mean_absolute_error: 623.4744 - val_loss: 820852.8366 - val_mean_absolute_error: 609.7176\n",
      "203442/203442 [==============================] - 10s 49us/step\n",
      "Metric  loss : 822126.25\n",
      "Metric  mean_absolute_error : 606.51\n"
     ]
    }
   ],
   "source": [
    "model = Sequential()\n",
    "model.add(Dense(150,input_dim = 44,activation=\"relu\"))\n",
    "model.add(Dense(150,activation=\"relu\"))\n",
    "model.add(Dense(150,activation=\"relu\"))\n",
    "model.add(Dense(150,activation=\"relu\"))\n",
    "model.add(Dense(150,activation=\"relu\"))\n",
    "model.add(Dense(1,activation = \"linear\"))\n",
    "\n",
    "model.compile(optimizer='adam',loss=\"mean_squared_error\",metrics=[\"mean_absolute_error\"])\n",
    "\n",
    "model.fit(x_train,y_train, validation_data=(x_val,y_val),epochs=15,batch_size=64)\n",
    "\n",
    "result = model.evaluate(x_test,y_test)\n",
    "for i in range(len(model.metrics_names)):\n",
    "    print(\"Metric \",model.metrics_names[i],\":\",str(round(result[i],2)))\n",
    "    \n",
    "#there is not that much change in the error    "
   ]
  },
  {
   "cell_type": "code",
   "execution_count": 78,
   "metadata": {},
   "outputs": [
    {
     "name": "stdout",
     "output_type": "stream",
     "text": [
      "Train on 732390 samples, validate on 81377 samples\n",
      "Epoch 1/15\n",
      "732390/732390 [==============================] - 93s 127us/step - loss: 1703608.0793 - mean_absolute_error: 851.9922 - val_loss: 1219310.6926 - val_mean_absolute_error: 759.2415\n",
      "Epoch 2/15\n",
      "732390/732390 [==============================] - 101s 138us/step - loss: 1166535.1209 - mean_absolute_error: 727.7498 - val_loss: 1103091.6112 - val_mean_absolute_error: 713.2152\n",
      "Epoch 3/15\n",
      "732390/732390 [==============================] - 97s 133us/step - loss: 1095504.5632 - mean_absolute_error: 703.1351 - val_loss: 1026560.0868 - val_mean_absolute_error: 681.1547\n",
      "Epoch 4/15\n",
      "732390/732390 [==============================] - 88s 120us/step - loss: 1057414.8962 - mean_absolute_error: 690.1719 - val_loss: 970060.3191 - val_mean_absolute_error: 670.8087\n",
      "Epoch 5/15\n",
      "732390/732390 [==============================] - 94s 128us/step - loss: 1031417.7432 - mean_absolute_error: 681.3776 - val_loss: 981687.8171 - val_mean_absolute_error: 672.9326\n",
      "Epoch 6/15\n",
      "732390/732390 [==============================] - 123s 167us/step - loss: 1007483.0290 - mean_absolute_error: 673.7717 - val_loss: 1031064.9233 - val_mean_absolute_error: 696.3258\n",
      "Epoch 7/15\n",
      "732390/732390 [==============================] - 100s 137us/step - loss: 991287.4996 - mean_absolute_error: 669.7033 - val_loss: 1132827.4595 - val_mean_absolute_error: 736.7722\n",
      "Epoch 8/15\n",
      "732390/732390 [==============================] - 116s 158us/step - loss: 971957.3126 - mean_absolute_error: 663.5670 - val_loss: 951778.3786 - val_mean_absolute_error: 657.4989\n",
      "Epoch 9/15\n",
      "732390/732390 [==============================] - 117s 160us/step - loss: 962184.1644 - mean_absolute_error: 661.3540 - val_loss: 930395.0833 - val_mean_absolute_error: 659.8488\n",
      "Epoch 10/15\n",
      "732390/732390 [==============================] - 114s 156us/step - loss: 949018.5726 - mean_absolute_error: 656.8185 - val_loss: 968698.8232 - val_mean_absolute_error: 663.5094\n",
      "Epoch 11/15\n",
      "732390/732390 [==============================] - 119s 162us/step - loss: 937602.9895 - mean_absolute_error: 653.2619 - val_loss: 899736.8687 - val_mean_absolute_error: 647.8549\n",
      "Epoch 12/15\n",
      "732390/732390 [==============================] - 120s 164us/step - loss: 923961.8700 - mean_absolute_error: 649.0734 - val_loss: 899181.6331 - val_mean_absolute_error: 640.9514\n",
      "Epoch 13/15\n",
      "732390/732390 [==============================] - 130s 177us/step - loss: 917261.8050 - mean_absolute_error: 646.4132 - val_loss: 870277.1349 - val_mean_absolute_error: 636.2612\n",
      "Epoch 14/15\n",
      "732390/732390 [==============================] - 130s 178us/step - loss: 904431.9436 - mean_absolute_error: 642.4026 - val_loss: 847106.2967 - val_mean_absolute_error: 625.0037\n",
      "Epoch 15/15\n",
      "732390/732390 [==============================] - 120s 164us/step - loss: 896628.5487 - mean_absolute_error: 639.3680 - val_loss: 859684.2339 - val_mean_absolute_error: 629.3113\n",
      "203442/203442 [==============================] - 17s 84us/step\n",
      "Metric  loss : 861035.72\n",
      "Metric  mean_absolute_error : 626.75\n"
     ]
    }
   ],
   "source": [
    "model = Sequential()\n",
    "model.add(Dense(350,input_dim = 44,activation=\"relu\"))\n",
    "model.add(Dense(350,activation=\"relu\"))\n",
    "model.add(Dense(1,activation = \"linear\"))\n",
    "\n",
    "model.compile(optimizer='adam',loss=\"mean_squared_error\",metrics=[\"mean_absolute_error\"])\n",
    "\n",
    "model.fit(x_train,y_train, validation_data=(x_val,y_val),epochs=15,batch_size=64)\n",
    "\n",
    "result = model.evaluate(x_test,y_test)\n",
    "for i in range(len(model.metrics_names)):\n",
    "    print(\"Metric \",model.metrics_names[i],\":\",str(round(result[i],2)))\n",
    "\n",
    "#There is no effect so we are now moving forward to increase the number of neurons"
   ]
  },
  {
   "cell_type": "markdown",
   "metadata": {},
   "source": [
    "### Training the model with increased number of epochs"
   ]
  },
  {
   "cell_type": "code",
   "execution_count": 77,
   "metadata": {},
   "outputs": [
    {
     "name": "stdout",
     "output_type": "stream",
     "text": [
      "Train on 732390 samples, validate on 81377 samples\n",
      "Epoch 1/15\n",
      "732390/732390 [==============================] - 192s 262us/step - loss: 1672888.5935 - mean_absolute_error: 849.7389 - val_loss: 1232561.5426 - val_mean_absolute_error: 737.2873\n",
      "Epoch 2/15\n",
      "732390/732390 [==============================] - 190s 259us/step - loss: 1168932.5275 - mean_absolute_error: 724.4256 - val_loss: 1091853.9308 - val_mean_absolute_error: 694.5555\n",
      "Epoch 3/15\n",
      "732390/732390 [==============================] - 179s 245us/step - loss: 1105126.0068 - mean_absolute_error: 703.5753 - val_loss: 1049116.8730 - val_mean_absolute_error: 695.8596\n",
      "Epoch 4/15\n",
      "732390/732390 [==============================] - 190s 259us/step - loss: 1066218.1592 - mean_absolute_error: 691.5491 - val_loss: 990455.2421 - val_mean_absolute_error: 665.7577\n",
      "Epoch 5/15\n",
      "732390/732390 [==============================] - 188s 257us/step - loss: 1034542.6668 - mean_absolute_error: 681.5845 - val_loss: 994262.3015 - val_mean_absolute_error: 672.9285\n",
      "Epoch 6/15\n",
      "732390/732390 [==============================] - 235s 321us/step - loss: 1010296.3276 - mean_absolute_error: 674.0748 - val_loss: 945942.6175 - val_mean_absolute_error: 656.7734\n",
      "Epoch 7/15\n",
      "732390/732390 [==============================] - 266s 364us/step - loss: 995044.6671 - mean_absolute_error: 669.4056 - val_loss: 951329.1653 - val_mean_absolute_error: 673.0339\n",
      "Epoch 8/15\n",
      "732390/732390 [==============================] - 245s 335us/step - loss: 975204.4648 - mean_absolute_error: 663.8491 - val_loss: 920758.6274 - val_mean_absolute_error: 652.7732\n",
      "Epoch 9/15\n",
      "732390/732390 [==============================] - 202s 275us/step - loss: 957723.1680 - mean_absolute_error: 658.7072 - val_loss: 928321.7448 - val_mean_absolute_error: 657.0079\n",
      "Epoch 10/15\n",
      "732390/732390 [==============================] - 239s 327us/step - loss: 938549.2755 - mean_absolute_error: 651.9750 - val_loss: 892086.6418 - val_mean_absolute_error: 637.0491\n",
      "Epoch 11/15\n",
      "732390/732390 [==============================] - 210s 286us/step - loss: 925869.0255 - mean_absolute_error: 647.6037 - val_loss: 859253.1391 - val_mean_absolute_error: 628.3727\n",
      "Epoch 12/15\n",
      "732390/732390 [==============================] - 256s 349us/step - loss: 907214.7250 - mean_absolute_error: 641.0291 - val_loss: 988194.7661 - val_mean_absolute_error: 682.1360\n",
      "Epoch 13/15\n",
      "732390/732390 [==============================] - 237s 323us/step - loss: 891988.9668 - mean_absolute_error: 635.4042 - val_loss: 853163.6219 - val_mean_absolute_error: 627.9373\n",
      "Epoch 14/15\n",
      "732390/732390 [==============================] - 255s 349us/step - loss: 879479.7476 - mean_absolute_error: 630.1254 - val_loss: 863729.8378 - val_mean_absolute_error: 631.8955\n",
      "Epoch 15/15\n",
      "732390/732390 [==============================] - 200s 273us/step - loss: 870094.7292 - mean_absolute_error: 626.5808 - val_loss: 870594.1291 - val_mean_absolute_error: 640.8558\n",
      "203442/203442 [==============================] - 19s 94us/step\n",
      "Metric  loss : 865446.3\n",
      "Metric  mean_absolute_error : 635.9\n"
     ]
    }
   ],
   "source": [
    "#This time improving the number of epochs\n",
    "from keras.callbacks import History \n",
    "history = History()\n",
    "\n",
    "model = Sequential()\n",
    "model.add(Dense(350,input_dim = 44,activation=\"relu\"))\n",
    "model.add(Dense(350,activation=\"relu\"))\n",
    "model.add(Dense(350,activation=\"relu\"))\n",
    "model.add(Dense(350,activation=\"relu\"))\n",
    "model.add(Dense(350,activation=\"relu\"))\n",
    "model.add(Dense(1,activation = \"linear\"))\n",
    "\n",
    "model.compile(optimizer='adam',loss=\"mean_squared_error\",metrics=[\"mean_absolute_error\"])\n",
    "\n",
    "model.fit(x_train,y_train, validation_data=(x_val,y_val), \n",
    "epochs=15,batch_size=64,callbacks=[history])\n",
    "\n",
    "result = model.evaluate(x_test,y_test)\n",
    "\n",
    "for i in range(len(model.metrics_names)):\n",
    "    print(\"Metric \",model.metrics_names[i],\":\",str(round(result[i],2)))\n"
   ]
  },
  {
   "cell_type": "markdown",
   "metadata": {},
   "source": [
    "### Visualing the final results"
   ]
  },
  {
   "cell_type": "code",
   "execution_count": 79,
   "metadata": {},
   "outputs": [
    {
     "data": {
      "image/png": "[encoded data removed]",
      "text/plain": [
       "<Figure size 432x288 with 1 Axes>"
      ]
     },
     "metadata": {},
     "output_type": "display_data"
    }
   ],
   "source": [
    "plt.plot(history.history['loss'])\n",
    "plt.plot(history.history['val_loss'])\n",
    "plt.title(\"Model's Training & Validation loss across epochs\")\n",
    "plt.ylabel('Loss')\n",
    "plt.xlabel('Epochs')\n",
    "plt.legend(['Train', 'Validation'], loc='upper right')\n",
    "plt.show()\n"
   ]
  },
  {
   "cell_type": "code",
   "execution_count": 80,
   "metadata": {},
   "outputs": [
    {
     "name": "stdout",
     "output_type": "stream",
     "text": [
      "        Actual Sales  Predicted Sales\n",
      "115563             0         0.657459\n",
      "832654             0         0.657459\n",
      "769112          2933      3354.924805\n",
      "350588          8602      7647.027832\n",
      "141556          6975      6411.233887\n",
      "84435           9239      9179.060547\n",
      "53018              0         0.657459\n",
      "262419             0         0.657459\n",
      "702267          5885      5946.315430\n",
      "981431             0        78.067741\n",
      "MSE : 861035.722953738\n",
      "MAE : 626.7492930861604\n"
     ]
    }
   ],
   "source": [
    "#Manually predicting from the model, instead of using model's evaluate function\n",
    "y_test[\"Prediction\"] = model.predict(x_test)\n",
    "y_test.columns = [\"Actual Sales\",\"Predicted Sales\"]\n",
    "print(y_test.head(10))\n",
    "\n",
    "#Manually predicting from the model, instead of using model's evaluate function\n",
    "from sklearn.metrics import mean_squared_error, mean_absolute_error\n",
    "print(\"MSE :\",mean_squared_error(y_test[\"Actual Sales\"].values,y_test[\"Predicted Sales\"].values))\n",
    "print(\"MAE :\",mean_absolute_error(y_test[\"Actual Sales\"].values,y_test[\"Predicted Sales\"].values))"
   ]
  }
 ],
 "metadata": {
  "kernelspec": {
   "display_name": "Python 3",
   "language": "python",
   "name": "python3"
  },
  "language_info": {
   "codemirror_mode": {
    "name": "ipython",
    "version": 3
   },
   "file_extension": ".py",
   "mimetype": "text/x-python",
   "name": "python",
   "nbconvert_exporter": "python",
   "pygments_lexer": "ipython3",
   "version": "3.7.4"
  }
 },
 "nbformat": 4,
 "nbformat_minor": 2
}
