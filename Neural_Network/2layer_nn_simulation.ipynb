{
 "cells": [
  {
   "cell_type": "code",
   "execution_count": 79,
   "metadata": {},
   "outputs": [],
   "source": [
    "#importing the important libraries in python\n",
    "#In this the most important is the autograd which automatically computes the gradient\n",
    "import autograd.numpy as np\n",
    "import autograd.numpy.random as npr #for generating the random numbers from the normal distribution \n",
    "from autograd import grad\n",
    "import sklearn.metrics\n",
    "import pylab"
   ]
  },
  {
   "cell_type": "code",
   "execution_count": 82,
   "metadata": {},
   "outputs": [],
   "source": [
    "#Generating the dataset\n",
    "examples = 1000\n",
    "features = 100\n",
    "D = (npr.randn(examples, features), npr.randn(examples))\n",
    "#This generates 1000 rows of 100 columns in each in very simple language"
   ]
  },
  {
   "cell_type": "code",
   "execution_count": 83,
   "metadata": {},
   "outputs": [
    {
     "data": {
      "text/plain": [
       "'numpy.random.randn(d0, d1, …, dn) : creates \\nan array of specified shape and fills it with random values as per standard normal distribution.\\nIf positive arguments are provided, randn generates an array of shape (d0, d1, …, dn), \\nfilled with random floats sampled from a univariate “normal” (Gaussian) distribution of mean 0 \\nand variance 1 (if any of the d_i are floats, they are first converted to integers by truncation). \\nA single float randomly sampled from the distribution is returned if no argument is provided.'"
      ]
     },
     "execution_count": 83,
     "metadata": {},
     "output_type": "execute_result"
    }
   ],
   "source": [
    "'''numpy.random.randn(d0, d1, …, dn) : creates \n",
    "an array of specified shape and fills it with random values as per standard normal distribution.\n",
    "If positive arguments are provided, randn generates an array of shape (d0, d1, …, dn), \n",
    "filled with random floats sampled from a univariate “normal” (Gaussian) distribution of mean 0 \n",
    "and variance 1 (if any of the d_i are floats, they are first converted to integers by truncation). \n",
    "A single float randomly sampled from the distribution is returned if no argument is provided.'''"
   ]
  },
  {
   "cell_type": "code",
   "execution_count": 84,
   "metadata": {},
   "outputs": [],
   "source": [
    "layer1_units = 10\n",
    "layer2_units = 1"
   ]
  },
  {
   "cell_type": "code",
   "execution_count": 85,
   "metadata": {},
   "outputs": [],
   "source": [
    "#setting the weight and biases by using randn function which follows the standard normal distribution\n",
    "w1 = npr.rand(features, layer1_units)\n",
    "b1 = npr.rand(layer1_units)\n",
    "w2 = npr.rand(layer1_units, layer2_units)\n",
    "b2 = 0.0"
   ]
  },
  {
   "cell_type": "code",
   "execution_count": 87,
   "metadata": {},
   "outputs": [],
   "source": [
    "theta = (w1, b1, w2, b2)\n",
    "#theta is the tuple of the parameters in our simple feed forward neural network"
   ]
  },
  {
   "cell_type": "code",
   "execution_count": 88,
   "metadata": {},
   "outputs": [],
   "source": [
    "#squared loss function\n",
    "def squared_loss(y, y_hat):\n",
    "    return np.dot((y - y_hat),(y - y_hat))"
   ]
  },
  {
   "cell_type": "code",
   "execution_count": 89,
   "metadata": {},
   "outputs": [],
   "source": [
    "#binary cross entropy for two class problem\n",
    "def binary_cross_entropy(y, y_hat):\n",
    "    return np.sum(-((y * np.log(y_hat)) + ((1-y) * np.log(1 - y_hat))))"
   ]
  },
  {
   "cell_type": "code",
   "execution_count": 90,
   "metadata": {},
   "outputs": [],
   "source": [
    "#the neural network basic operation of performing and calculating the linear combination and put it into the \n",
    "#activation function\n",
    "def neural_network(x, theta):\n",
    "    w1, b1, w2, b2 = theta\n",
    "    return np.tanh(np.dot((np.tanh(np.dot(x,w1) + b1)), w2) + b2)"
   ]
  },
  {
   "cell_type": "code",
   "execution_count": 93,
   "metadata": {},
   "outputs": [],
   "source": [
    "#the objective which has to be minimized\n",
    "def objective(theta, idx):\n",
    "    return squared_loss(D[1][idx], neural_network(D[0][idx], theta))"
   ]
  },
  {
   "cell_type": "code",
   "execution_count": 110,
   "metadata": {},
   "outputs": [],
   "source": [
    "#Update the Parameter after every example  stochastic gradient Descent\n",
    "def update_theta(theta, delta, alpha):\n",
    "    w1, b1, w2, b2 = theta\n",
    "    w1_delta, b1_delta, w2_delta, b2_delta = delta\n",
    "    w1_new = w1 - alpha * w1_delta\n",
    "    b1_new = b1 - alpha * b1_delta\n",
    "    w2_new = w2 - alpha * w2_delta\n",
    "    b2_new = b2 - alpha * b2_delta\n",
    "    new_theta = (w1_new,b1_new,w2_new,b2_new)\n",
    "    return new_theta\n"
   ]
  },
  {
   "cell_type": "code",
   "execution_count": 106,
   "metadata": {},
   "outputs": [
    {
     "data": {
      "text/plain": [
       "<function autograd.wrap_util.unary_to_nary.<locals>.nary_operator.<locals>.nary_f(*args, **kwargs)>"
      ]
     },
     "execution_count": 106,
     "metadata": {},
     "output_type": "execute_result"
    }
   ],
   "source": [
    "grad_objective = grad(objective)\n",
    "grad_objective"
   ]
  },
  {
   "cell_type": "code",
   "execution_count": 108,
   "metadata": {},
   "outputs": [],
   "source": [
    "#Number Of Epochs on which our neural network will work\n",
    "epochs = 10"
   ]
  },
  {
   "cell_type": "code",
   "execution_count": 103,
   "metadata": {},
   "outputs": [
    {
     "name": "stdout",
     "output_type": "stream",
     "text": [
      "RMSE before training: 1.9880800826249097\n",
      "RMSE after training: 0.748710171111754\n"
     ]
    }
   ],
   "source": [
    "print(\"RMSE before training:\", sklearn.metrics.mean_squared_error(D[1],neural_network(D[0], theta)))\n",
    "rmse = []\n",
    "for i in range(0, epochs):\n",
    "    for j in range(0, examples):\n",
    "        delta = grad_objective(theta, j)\n",
    "        theta = update_theta(theta,delta, 0.01)\n",
    "        rmse.append(sklearn.metrics.mean_squared_error(D[1],neural_network(D[0], theta)))\n",
    "\n",
    "print(\"RMSE after training:\", sklearn.metrics.mean_squared_error(D[1],neural_network(D[0], theta)))"
   ]
  },
  {
   "cell_type": "code",
   "execution_count": 107,
   "metadata": {},
   "outputs": [
    {
     "data": {
      "image/png": "[encoded data removed]",
      "text/plain": [
       "<Figure size 432x288 with 1 Axes>"
      ]
     },
     "metadata": {
      "needs_background": "light"
     },
     "output_type": "display_data"
    }
   ],
   "source": [
    "#RMSE (Root Mean Square error Plot)\n",
    "pylab.plot(rmse)\n",
    "pylab.show()"
   ]
  }
 ],
 "metadata": {
  "kernelspec": {
   "display_name": "Python 3",
   "language": "python",
   "name": "python3"
  },
  "language_info": {
   "codemirror_mode": {
    "name": "ipython",
    "version": 3
   },
   "file_extension": ".py",
   "mimetype": "text/x-python",
   "name": "python",
   "nbconvert_exporter": "python",
   "pygments_lexer": "ipython3",
   "version": "3.7.4"
  }
 },
 "nbformat": 4,
 "nbformat_minor": 2
}
