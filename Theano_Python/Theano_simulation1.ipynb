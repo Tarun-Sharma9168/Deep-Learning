{
 "cells": [
  {
   "cell_type": "code",
   "execution_count": 1,
   "metadata": {},
   "outputs": [
    {
     "name": "stdout",
     "output_type": "stream",
     "text": [
      "Expected: ((1 - 2 + 3) * 4)/5.0 =  1.6\n",
      "Via Theano: ((1 - 2 + 3) * 4)/5.0 =  1.6\n",
      "The output file is available at s1.png\n"
     ]
    }
   ],
   "source": [
    "#importing the Theano Library\n",
    "import theano.tensor as T\n",
    "from theano import function #importing function from theano\n",
    "from theano.printing import pydotprint #saving graph without showing\n",
    "\n",
    "#Declaring the scalar\n",
    "a = T.dscalar('a')\n",
    "b = T.dscalar('b')\n",
    "c = T.dscalar('c')\n",
    "d = T.dscalar('d')\n",
    "e = T.dscalar('e')\n",
    "\n",
    "f = ((a - b + c) * d )/e\n",
    "\n",
    "g = function([a, b, c, d, e], f)\n",
    "#g =function([ list of arguments arguments],function_you_defined)\n",
    "\n",
    "print(\"Expected: ((1 - 2 + 3) * 4)/5.0 = \", ((1 - 2 + 3) * 4)/5.0)\n",
    "print(\"Via Theano: ((1 - 2 + 3) * 4)/5.0 = \",  g(1, 2, 3, 4, 5))\n",
    "pydotprint(g, outfile=\"s1.png\", var_with_name_simple=True)\n",
    "# Expected: ((1 - 2 + 3) * 4)/5.0 =  1.6\n",
    "# Via Theano: ((1 - 2 + 3) * 4)/5.0 =  1.6"
   ]
  },
  {
   "cell_type": "code",
   "execution_count": 7,
   "metadata": {},
   "outputs": [
    {
     "name": "stdout",
     "output_type": "stream",
     "text": [
      "Expected: 13\n",
      "Via Theano 13.0\n"
     ]
    }
   ],
   "source": [
    "#second Function\n",
    "first=T.dscalar('first')\n",
    "second=T.dscalar('second')\n",
    "\n",
    "my_func=(first ** 2.0 + second ** 2.0)\n",
    "\n",
    "make_func=function([first,second],my_func)\n",
    "print(\"Expected:\", 2 ** 2 + 3 ** 2)\n",
    "print(\"Via Theano\",make_func(2,3))"
   ]
  },
  {
   "cell_type": "code",
   "execution_count": null,
   "metadata": {},
   "outputs": [],
   "source": [
    "#Working with the Theano Library"
   ]
  }
 ],
 "metadata": {
  "kernelspec": {
   "display_name": "Python 3",
   "language": "python",
   "name": "python3"
  },
  "language_info": {
   "codemirror_mode": {
    "name": "ipython",
    "version": 3
   },
   "file_extension": ".py",
   "mimetype": "text/x-python",
   "name": "python",
   "nbconvert_exporter": "python",
   "pygments_lexer": "ipython3",
   "version": "3.7.4"
  }
 },
 "nbformat": 4,
 "nbformat_minor": 2
}
