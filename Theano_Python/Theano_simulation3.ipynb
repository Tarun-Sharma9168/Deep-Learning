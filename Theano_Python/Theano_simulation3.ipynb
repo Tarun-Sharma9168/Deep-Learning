{
 "cells": [
  {
   "cell_type": "code",
   "execution_count": 13,
   "metadata": {},
   "outputs": [],
   "source": [
    "#importing the important libraries\n",
    "import numpy\n",
    "import theano.tensor as T\n",
    "from theano import function\n",
    "from theano.printing import pydotprint"
   ]
  },
  {
   "cell_type": "code",
   "execution_count": 9,
   "metadata": {},
   "outputs": [],
   "source": [
    "#Typical Matrix \n",
    "a = T.dmatrix('a')\n",
    "b = T.dmatrix('b')\n",
    "c = T.dmatrix('c')\n",
    "d = T.dmatrix('d')"
   ]
  },
  {
   "cell_type": "code",
   "execution_count": 8,
   "metadata": {},
   "outputs": [],
   "source": [
    "#Typical Scalar Values\n",
    "p = T.dscalar('p')\n",
    "q = T.dscalar('q')\n",
    "r = T.dscalar('r')\n",
    "s = T.dscalar('s')\n",
    "u = T.dscalar('u')"
   ]
  },
  {
   "cell_type": "code",
   "execution_count": 10,
   "metadata": {},
   "outputs": [],
   "source": [
    "e = (((a * p) + (b - q) - (c + r )) * d/s) * u\n",
    "#function computation defined"
   ]
  },
  {
   "cell_type": "code",
   "execution_count": 11,
   "metadata": {},
   "outputs": [],
   "source": [
    "f = function([a,b,c,d,p,q,r,s,u], e)"
   ]
  },
  {
   "cell_type": "code",
   "execution_count": 14,
   "metadata": {},
   "outputs": [],
   "source": [
    "#Defining the Matrix and Remember the \n",
    "#to change into the array\n",
    "a_data = numpy.array([[1,1],[1,1]])\n",
    "b_data = numpy.array([[2,2],[2,2]])\n",
    "c_data = numpy.array([[5,5],[5,5]])\n",
    "d_data = numpy.array([[3,3],[3,3]])"
   ]
  },
  {
   "cell_type": "code",
   "execution_count": 16,
   "metadata": {},
   "outputs": [
    {
     "name": "stdout",
     "output_type": "stream",
     "text": [
      "Expected: [[-26.25 -26.25]\n",
      " [-26.25 -26.25]]\n",
      "Via Theano: [[-26.25 -26.25]\n",
      " [-26.25 -26.25]]\n"
     ]
    }
   ],
   "source": [
    "#printing the values of the function we calculate or second we use Theano\n",
    "print(\"Expected:\", (((a_data * 1.0) + (b_data - 2.0) - (c_data + 3.0 )) * d_data/4.0) * 5.0)\n",
    "print(\"Via Theano:\", f(a_data,b_data,c_data,d_data,1,2,3,4,5))"
   ]
  },
  {
   "cell_type": "code",
   "execution_count": 17,
   "metadata": {},
   "outputs": [
    {
     "name": "stdout",
     "output_type": "stream",
     "text": [
      "The output file is available at s3.png\n"
     ]
    }
   ],
   "source": [
    "pydotprint(f, outfile=\"s3.png\", var_with_name_simple=True)"
   ]
  }
 ],
 "metadata": {
  "kernelspec": {
   "display_name": "Python 3",
   "language": "python",
   "name": "python3"
  },
  "language_info": {
   "codemirror_mode": {
    "name": "ipython",
    "version": 3
   },
   "file_extension": ".py",
   "mimetype": "text/x-python",
   "name": "python",
   "nbconvert_exporter": "python",
   "pygments_lexer": "ipython3",
   "version": "3.7.4"
  }
 },
 "nbformat": 4,
 "nbformat_minor": 2
}
