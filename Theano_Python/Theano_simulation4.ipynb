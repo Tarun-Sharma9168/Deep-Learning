{
 "cells": [
  {
   "cell_type": "code",
   "execution_count": 1,
   "metadata": {},
   "outputs": [],
   "source": [
    "#importing the libraries\n",
    "import numpy\n",
    "import theano.tensor as T\n",
    "from theano import function\n",
    "from theano.printing import pydotprint "
   ]
  },
  {
   "cell_type": "code",
   "execution_count": 2,
   "metadata": {},
   "outputs": [
    {
     "name": "stdout",
     "output_type": "stream",
     "text": [
      "sigmoid: [array([[0.26894142, 0.5       , 0.73105858],\n",
      "       [0.88079708, 0.73105858, 0.5       ]])]\n",
      "The output file is available at s4-1.png\n"
     ]
    }
   ],
   "source": [
    "# sigmoid\n",
    "a = T.dmatrix('a')\n",
    "f_a = T.nnet.sigmoid(a)\n",
    "f_sigmoid = function([a],[f_a])\n",
    "print(\"sigmoid:\", f_sigmoid([[-1,0,1],[2,1,0]]))\n",
    "pydotprint(f_sigmoid, outfile=\"s4-1.png\", var_with_name_simple=True)"
   ]
  },
  {
   "cell_type": "code",
   "execution_count": 3,
   "metadata": {},
   "outputs": [
    {
     "name": "stdout",
     "output_type": "stream",
     "text": [
      "tanh: [array([[-0.76159416,  0.        ,  0.76159416]])]\n",
      "The output file is available at s4-2.png\n"
     ]
    }
   ],
   "source": [
    "# tanh\n",
    "b = T.dmatrix('b')\n",
    "f_b = T.tanh(b)\n",
    "f_tanh = function([b],[f_b])\n",
    "print(\"tanh:\", f_tanh([[-1,0,1]]))\n",
    "pydotprint(f_tanh, outfile=\"s4-2.png\", var_with_name_simple=True)"
   ]
  },
  {
   "cell_type": "code",
   "execution_count": 4,
   "metadata": {},
   "outputs": [
    {
     "name": "stdout",
     "output_type": "stream",
     "text": [
      "fast sigmoid: [array([[0.25, 0.5 , 0.75]])]\n",
      "The output file is available at s4-3.png\n"
     ]
    }
   ],
   "source": [
    "# fast sigmoid\n",
    "c = T.dmatrix('c')\n",
    "f_c = T.nnet.ultra_fast_sigmoid(c)\n",
    "f_fast_sigmoid = function([c],[f_c])\n",
    "print(\"fast sigmoid:\", f_fast_sigmoid([[-1,0,1]]))\n",
    "pydotprint(f_fast_sigmoid, outfile=\"s4-3.png\", var_with_name_simple=True)"
   ]
  },
  {
   "cell_type": "code",
   "execution_count": 5,
   "metadata": {},
   "outputs": [
    {
     "name": "stdout",
     "output_type": "stream",
     "text": [
      "soft plus: [array([[0.31326169, 0.69314718, 1.31326169]])]\n",
      "The output file is available at s4-4.png\n"
     ]
    }
   ],
   "source": [
    "# softplus\n",
    "d = T.dmatrix('d')\n",
    "f_d = T.nnet.softplus(d)\n",
    "f_softplus = function([d],[f_d])\n",
    "print(\"soft plus:\",f_softplus([[-1,0,1]]))\n",
    "pydotprint(f_softplus, outfile=\"s4-4.png\", var_with_name_simple=True)"
   ]
  },
  {
   "cell_type": "code",
   "execution_count": 6,
   "metadata": {},
   "outputs": [
    {
     "name": "stdout",
     "output_type": "stream",
     "text": [
      "relu: [array([[0., 0., 1.]])]\n",
      "The output file is available at s4-5.png\n"
     ]
    }
   ],
   "source": [
    "# relu\n",
    "e = T.dmatrix('e')\n",
    "f_e = T.nnet.relu(e)\n",
    "f_relu = function([e],[f_e])\n",
    "print(\"relu:\",f_relu([[-1,0,1]]))\n",
    "pydotprint(f_relu, outfile=\"s4-5.png\", var_with_name_simple=True)"
   ]
  },
  {
   "cell_type": "code",
   "execution_count": 7,
   "metadata": {},
   "outputs": [
    {
     "name": "stdout",
     "output_type": "stream",
     "text": [
      "soft max: [array([[0.09003057, 0.24472847, 0.66524096]])]\n",
      "The output file is available at s4-6.png\n"
     ]
    }
   ],
   "source": [
    "# softmax\n",
    "f = T.dmatrix('f')\n",
    "f_f = T.nnet.softmax(f)\n",
    "f_softmax = function([f],[f_f])\n",
    "print(\"soft max:\",f_softmax([[-1,0,1]]))\n",
    "pydotprint(f_softmax, outfile=\"s4-6.png\", var_with_name_simple=True)"
   ]
  }
 ],
 "metadata": {
  "kernelspec": {
   "display_name": "Python 3",
   "language": "python",
   "name": "python3"
  },
  "language_info": {
   "codemirror_mode": {
    "name": "ipython",
    "version": 3
   },
   "file_extension": ".py",
   "mimetype": "text/x-python",
   "name": "python",
   "nbconvert_exporter": "python",
   "pygments_lexer": "ipython3",
   "version": "3.7.4"
  }
 },
 "nbformat": 4,
 "nbformat_minor": 2
}
