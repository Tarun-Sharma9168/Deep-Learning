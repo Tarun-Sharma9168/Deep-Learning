{
 "cells": [
  {
   "cell_type": "code",
   "execution_count": 18,
   "metadata": {},
   "outputs": [],
   "source": [
    "#importing the important library\n",
    "import theano.tensor as T\n",
    "from theano import function\n",
    "from theano import shared\n",
    "from theano.printing import pydotprint\n",
    "import numpy"
   ]
  },
  {
   "cell_type": "code",
   "execution_count": 19,
   "metadata": {},
   "outputs": [],
   "source": [
    "#making of the matrix\n",
    "x = T.dmatrix('x')\n",
    "#Making of the shared variable\n",
    "y = shared(numpy.array([[4, 5, 6]]))\n",
    "#defining of the function\n",
    "z = x + y#in which one is normal matric other is shared\n",
    "f = function(inputs = [x], outputs = [z])"
   ]
  },
  {
   "cell_type": "code",
   "execution_count": 20,
   "metadata": {},
   "outputs": [
    {
     "name": "stdout",
     "output_type": "stream",
     "text": [
      "The output file is available at s5.png\n"
     ]
    }
   ],
   "source": [
    "pydotprint(f, outfile=\"s5.png\", var_with_name_simple=True)"
   ]
  },
  {
   "cell_type": "code",
   "execution_count": 21,
   "metadata": {},
   "outputs": [
    {
     "name": "stdout",
     "output_type": "stream",
     "text": [
      "Original Shared Value: [[4 5 6]]\n",
      "Original Function Evaluation: [array([[5., 7., 9.]])]\n"
     ]
    }
   ],
   "source": [
    "print(\"Original Shared Value:\", y.get_value())#you can get the value of the shared variable by using the get_value function\n",
    "print(\"Original Function Evaluation:\", f([[1, 2, 3]]))"
   ]
  },
  {
   "cell_type": "code",
   "execution_count": 22,
   "metadata": {},
   "outputs": [],
   "source": [
    "y.set_value(numpy.array([[5, 6, 7]]))#you can change the value of the shared variable by setting the variable by using the \n",
    "#function set_value and passing the array"
   ]
  },
  {
   "cell_type": "code",
   "execution_count": 24,
   "metadata": {},
   "outputs": [
    {
     "name": "stdout",
     "output_type": "stream",
     "text": [
      "Original Shared Value: [[5 6 7]]\n",
      "Original Function Evaluation: [array([[ 6.,  8., 10.]])]\n"
     ]
    }
   ],
   "source": [
    "print(\"Original Shared Value:\", y.get_value())\n",
    "print(\"Original Function Evaluation:\", f([[1, 2, 3]]))"
   ]
  }
 ],
 "metadata": {
  "kernelspec": {
   "display_name": "Python 3",
   "language": "python",
   "name": "python3"
  },
  "language_info": {
   "codemirror_mode": {
    "name": "ipython",
    "version": 3
   },
   "file_extension": ".py",
   "mimetype": "text/x-python",
   "name": "python",
   "nbconvert_exporter": "python",
   "pygments_lexer": "ipython3",
   "version": "3.7.4"
  }
 },
 "nbformat": 4,
 "nbformat_minor": 2
}
