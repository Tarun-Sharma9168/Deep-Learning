{
 "cells": [
  {
   "cell_type": "code",
   "execution_count": 1,
   "metadata": {},
   "outputs": [],
   "source": [
    "import theano.tensor as T\n",
    "from theano import function\n",
    "from theano.printing import pydotprint"
   ]
  },
  {
   "cell_type": "code",
   "execution_count": 2,
   "metadata": {},
   "outputs": [
    {
     "name": "stdout",
     "output_type": "stream",
     "text": [
      "Binary Cross Entropy [[0.01,0.01,0.01]],[[0.99,0.99,0.01]]: [array(3.0581465)]\n",
      "The output file is available at s7-1.png\n"
     ]
    }
   ],
   "source": [
    "# binary cross entropy\n",
    "a1 = T.dmatrix('a1')\n",
    "a2 = T.dmatrix('a2')\n",
    "f_a = T.nnet.binary_crossentropy(a1, a2).mean()\n",
    "f_sigmoid = function([a1, a2],[f_a])\n",
    "print(\"Binary Cross Entropy [[0.01,0.01,0.01]],[[0.99,0.99,0.01]]:\", f_sigmoid([[0.01,0.01,0.01]],[[0.99,0.99,0.01]]))\n",
    "pydotprint(f_sigmoid, outfile=\"s7-1.png\", var_with_name_simple=True)"
   ]
  },
  {
   "cell_type": "code",
   "execution_count": 3,
   "metadata": {},
   "outputs": [
    {
     "name": "stdout",
     "output_type": "stream",
     "text": [
      "Categorical Cross Entropy [[0.01,0.01,0.01]],[[0.99,0.99,0.01]]: [array([9.16428867])]\n",
      "The output file is available at s7-2.png\n"
     ]
    }
   ],
   "source": [
    "# categorical cross entropy\n",
    "b1 = T.dmatrix('b1')\n",
    "b2 = T.dmatrix('b2')\n",
    "f_b = T.nnet.categorical_crossentropy(b1, b2)\n",
    "f_sigmoid = function([b1, b2],[f_b])\n",
    "print(\"Categorical Cross Entropy [[0.01,0.01,0.01]],[[0.99,0.99,0.01]]:\", f_sigmoid([[0.01,0.01,0.01]],[[0.99,0.99,0.01]]))\n",
    "pydotprint(f_sigmoid, outfile=\"s7-2.png\", var_with_name_simple=True)"
   ]
  },
  {
   "cell_type": "code",
   "execution_count": 4,
   "metadata": {},
   "outputs": [],
   "source": [
    "# squared error\n",
    "def squared_error(x,y):\n",
    "    return (x - y) ** 2"
   ]
  },
  {
   "cell_type": "code",
   "execution_count": 6,
   "metadata": {},
   "outputs": [
    {
     "name": "stdout",
     "output_type": "stream",
     "text": [
      "Squared Error [[0.01,0.01,0.01]],[[0.99,0.99,0.01]]: [array([9.16428867])]\n",
      "The output file is available at s7-3.png\n"
     ]
    }
   ],
   "source": [
    "c1 = T.dmatrix('b1')\n",
    "c2 = T.dmatrix('b2')\n",
    "f_c = squared_error(c1, c2)\n",
    "f_squared_error = function([c1, c2],[f_c])\n",
    "print(\"Squared Error [[0.01,0.01,0.01]],[[0.99,0.99,0.01]]:\", f_sigmoid([[0.01,0.01,0.01]],[[0.99,0.99,0.01]]))\n",
    "pydotprint(f_squared_error, outfile=\"s7-3.png\", var_with_name_simple=True)"
   ]
  }
 ],
 "metadata": {
  "kernelspec": {
   "display_name": "Python 3",
   "language": "python",
   "name": "python3"
  },
  "language_info": {
   "codemirror_mode": {
    "name": "ipython",
    "version": 3
   },
   "file_extension": ".py",
   "mimetype": "text/x-python",
   "name": "python",
   "nbconvert_exporter": "python",
   "pygments_lexer": "ipython3",
   "version": "3.7.4"
  }
 },
 "nbformat": 4,
 "nbformat_minor": 2
}
