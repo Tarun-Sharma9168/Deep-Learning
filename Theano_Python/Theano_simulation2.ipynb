{
 "cells": [
  {
   "cell_type": "code",
   "execution_count": 1,
   "metadata": {},
   "outputs": [],
   "source": [
    "#importing the libraries\n",
    "import numpy\n",
    "import theano.tensor as T\n",
    "from theano import function\n",
    "from theano.printing import pydotprint"
   ]
  },
  {
   "cell_type": "code",
   "execution_count": 2,
   "metadata": {},
   "outputs": [],
   "source": [
    "#just like we made the scalars we now make matrices\n",
    "a,b,c,d=T.dmatrices('a','b','c','d')"
   ]
  },
  {
   "cell_type": "code",
   "execution_count": 3,
   "metadata": {},
   "outputs": [],
   "source": [
    "#buiding the function\n",
    "e= (( a + b - c) *d)"
   ]
  },
  {
   "cell_type": "code",
   "execution_count": 4,
   "metadata": {},
   "outputs": [],
   "source": [
    "#function using theano function method\n",
    "f=function([a,b,c,d],e)"
   ]
  },
  {
   "cell_type": "code",
   "execution_count": 5,
   "metadata": {},
   "outputs": [],
   "source": [
    "#you have to convert the list in which you defined the matrix into array\n",
    "a_data=numpy.array([[1,1],[1,1]])\n",
    "b_data=numpy.array([[2,2],[2,2]])\n",
    "c_data=numpy.array([[5,5],[5,5]])\n",
    "d_data=numpy.array([[3,3],[3,3]])"
   ]
  },
  {
   "cell_type": "code",
   "execution_count": 6,
   "metadata": {},
   "outputs": [
    {
     "name": "stdout",
     "output_type": "stream",
     "text": [
      "Expected: [[-6 -6]\n",
      " [-6 -6]]\n",
      "Via Theano: [[-6. -6.]\n",
      " [-6. -6.]]\n",
      "The output file is available at s2.png\n"
     ]
    }
   ],
   "source": [
    "#then just printing the values that simple python give or \n",
    "print(\"Expected:\", (a_data + b_data - c_data) * d_data)\n",
    "print(\"Via Theano:\", f(a_data,b_data,c_data,d_data))\n",
    "pydotprint(f, outfile=\"s2.png\", var_with_name_simple=True)"
   ]
  }
 ],
 "metadata": {
  "kernelspec": {
   "display_name": "Python 3",
   "language": "python",
   "name": "python3"
  },
  "language_info": {
   "codemirror_mode": {
    "name": "ipython",
    "version": 3
   },
   "file_extension": ".py",
   "mimetype": "text/x-python",
   "name": "python",
   "nbconvert_exporter": "python",
   "pygments_lexer": "ipython3",
   "version": "3.7.4"
  }
 },
 "nbformat": 4,
 "nbformat_minor": 2
}
