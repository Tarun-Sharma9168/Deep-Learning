{
 "cells": [
  {
   "cell_type": "code",
   "execution_count": 1,
   "metadata": {},
   "outputs": [],
   "source": [
    "import theano.tensor as T\n",
    "from theano import function\n",
    "from theano import shared\n",
    "from theano.printing import pydotprint"
   ]
  },
  {
   "cell_type": "code",
   "execution_count": 2,
   "metadata": {},
   "outputs": [],
   "source": [
    "import numpy\n",
    "\n",
    "x = T.dmatrix('x')\n",
    "y = shared(numpy.array([[4, 5, 6]]))\n",
    "z = T.sum(((x * x) + y) * x)"
   ]
  },
  {
   "cell_type": "code",
   "execution_count": 3,
   "metadata": {},
   "outputs": [],
   "source": [
    "f = function(inputs = [x], outputs = [z])"
   ]
  },
  {
   "cell_type": "code",
   "execution_count": 4,
   "metadata": {},
   "outputs": [],
   "source": [
    "g = T.grad(z,[x])\n",
    "g_f = function([x], g)"
   ]
  },
  {
   "cell_type": "code",
   "execution_count": 5,
   "metadata": {},
   "outputs": [
    {
     "name": "stdout",
     "output_type": "stream",
     "text": [
      "The output file is available at s6.png\n",
      "Original: [array(68.)]\n",
      "Original Gradient: [array([[ 7., 17., 33.]])]\n"
     ]
    }
   ],
   "source": [
    "pydotprint(f, outfile=\"s6.png\", var_with_name_simple=True)\n",
    "\n",
    "print(\"Original:\", f([[1, 2, 3]]))\n",
    "print(\"Original Gradient:\", g_f([[1, 2, 3]]))"
   ]
  },
  {
   "cell_type": "code",
   "execution_count": 6,
   "metadata": {},
   "outputs": [
    {
     "name": "stdout",
     "output_type": "stream",
     "text": [
      "Updated: [array(42.)]\n",
      "Updated Gradient [array([[ 4., 13., 28.]])]\n"
     ]
    }
   ],
   "source": [
    "y.set_value(numpy.array([[1, 1, 1]]))\n",
    "print(\"Updated:\", f([[1, 2, 3]]))\n",
    "print(\"Updated Gradient\", g_f([[1, 2, 3]]))"
   ]
  }
 ],
 "metadata": {
  "kernelspec": {
   "display_name": "Python 3",
   "language": "python",
   "name": "python3"
  },
  "language_info": {
   "codemirror_mode": {
    "name": "ipython",
    "version": 3
   },
   "file_extension": ".py",
   "mimetype": "text/x-python",
   "name": "python",
   "nbconvert_exporter": "python",
   "pygments_lexer": "ipython3",
   "version": "3.7.4"
  }
 },
 "nbformat": 4,
 "nbformat_minor": 2
}
